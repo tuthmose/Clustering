{
 "cells": [
  {
   "cell_type": "code",
   "execution_count": 1,
   "metadata": {},
   "outputs": [],
   "source": [
    "#std modules\n",
    "import matplotlib.pyplot as plt\n",
    "import numpy as np\n",
    "import scipy as sp\n",
    "from scipy.spatial.distance import cdist,pdist,squareform\n",
    "from sklearn import datasets, metrics\n",
    "from sklearn.cluster import DBSCAN,KMeans,MeanShift,estimate_bandwidth\n",
    "from sklearn.neighbors import kneighbors_graph\n",
    "from sklearn.decomposition import PCA\n",
    "import sklearn.preprocessing\n",
    "import sys\n",
    "\n",
    "%matplotlib inline\n",
    "%load_ext autoreload"
   ]
  },
  {
   "cell_type": "code",
   "execution_count": 2,
   "metadata": {},
   "outputs": [],
   "source": [
    "sys.path.append(\"/home/gmancini/Dropbox/appunti/Clustering/src\")\n",
    "import mdutils\n",
    "import myclusters\n",
    "import myvalidation\n",
    "%autoreload 2"
   ]
  },
  {
   "cell_type": "code",
   "execution_count": 3,
   "metadata": {},
   "outputs": [],
   "source": [
    "example_dist=np.loadtxt(\"example_distances.dat.gz\")"
   ]
  },
  {
   "cell_type": "code",
   "execution_count": 4,
   "metadata": {},
   "outputs": [],
   "source": [
    "def dcolumn2mat(data):\n",
    "    ndata = int(np.max(data[:,1]))\n",
    "    D = np.zeros(ndata*ndata)\n",
    "    D.shape = (ndata,ndata)\n",
    "    for line in data:\n",
    "        I = int(line[0])-1\n",
    "        J = int(line[1])-1\n",
    "        D[I,J] = line[2]\n",
    "        D[J,I] = line[2]\n",
    "    return(D)"
   ]
  },
  {
   "cell_type": "code",
   "execution_count": 5,
   "metadata": {},
   "outputs": [],
   "source": [
    "def plot_histo(x, ignore=None):\n",
    "    \"Generate and plot a histogram for some data. The optional ignore is a histogram index to 0 out.\"\n",
    "    h,b = np.histogram(x)\n",
    "    if ignore is not None: h[ignore] = 0\n",
    "    c = (b[:-1]+b[1:])/2\n",
    "    w = 0.7*(b[1]-b[0])\n",
    "    return plt.bar(c,h,align='center',width=w)\n",
    "colors=['red','green','blue','yellow','orange','cyan','magenta']"
   ]
  },
  {
   "cell_type": "code",
   "execution_count": 6,
   "metadata": {},
   "outputs": [
    {
     "name": "stdout",
     "output_type": "stream",
     "text": [
      "Data set size:  (2000, 2000)\n",
      "Maximum distance:  1.232\n"
     ]
    },
    {
     "data": {
      "text/plain": [
       "Text(0.5,1,'distance histogram')"
      ]
     },
     "execution_count": 6,
     "metadata": {},
     "output_type": "execute_result"
    },
    {
     "data": {
      "image/png": "[encoded data removed]",
      "text/plain": [
       "<matplotlib.figure.Figure at 0x7fe058e88400>"
      ]
     },
     "metadata": {},
     "output_type": "display_data"
    }
   ],
   "source": [
    "D=dcolumn2mat(example_dist)\n",
    "print(\"Data set size: \",D.shape)\n",
    "print(\"Maximum distance: \",np.max(D))\n",
    "tt=plot_histo(D)\n",
    "plt.title(r\"distance histogram\")"
   ]
  },
  {
   "cell_type": "code",
   "execution_count": 7,
   "metadata": {},
   "outputs": [
    {
     "name": "stdout",
     "output_type": "stream",
     "text": [
      "Cutoff:  0.033\n",
      "2000\n"
     ]
    },
    {
     "data": {
      "text/plain": [
       "True"
      ]
     },
     "execution_count": 7,
     "metadata": {},
     "output_type": "execute_result"
    }
   ],
   "source": [
    "cutoff = 0.033\n",
    "#cutoff = \"auto\"\n",
    "estimator = myclusters.density_peaks(cutoff=cutoff,kernel=\"gaussian\",\\\n",
    "                                     metric=\"precomputed\")\n",
    "                                     #metric=\"euclidean\",X=np.loadtxt(\"fig2_panelB.dat\"))\n",
    "print(\"Cutoff: \",estimator.cutoff)\n",
    "rho,delta = estimator.decision_graph(D=D)\n",
    "nneigh = estimator.nneigh\n",
    "print(len(nneigh))\n",
    "np.any(nneigh==0.)"
   ]
  },
  {
   "cell_type": "code",
   "execution_count": 8,
   "metadata": {},
   "outputs": [
    {
     "name": "stdout",
     "output_type": "stream",
     "text": [
      "Average and std of rho: 37.76266942237251 34.39023941273842\n"
     ]
    },
    {
     "data": {
      "text/plain": [
       "Text(0.5,1,'$\\\\rho$ histogram')"
      ]
     },
     "execution_count": 8,
     "metadata": {},
     "output_type": "execute_result"
    },
    {
     "data": {
      "image/png": "[encoded data removed]",
      "text/plain": [
       "<matplotlib.figure.Figure at 0x7fe0561a6e80>"
      ]
     },
     "metadata": {},
     "output_type": "display_data"
    }
   ],
   "source": [
    "tt=plot_histo(rho)\n",
    "print(\"Average and std of rho:\",np.mean(rho),np.std(rho))\n",
    "plt.title(r\"$\\rho$ histogram\")"
   ]
  },
  {
   "cell_type": "code",
   "execution_count": 9,
   "metadata": {},
   "outputs": [
    {
     "name": "stdout",
     "output_type": "stream",
     "text": [
      "Average and std of rho: 0.011431499999999999 0.017347314136488105\n"
     ]
    },
    {
     "data": {
      "text/plain": [
       "[0, 0.35, 0, 40]"
      ]
     },
     "execution_count": 9,
     "metadata": {},
     "output_type": "execute_result"
    },
    {
     "data": {
      "image/png": "[encoded data removed]",
      "text/plain": [
       "<matplotlib.figure.Figure at 0x7fe0575bc438>"
      ]
     },
     "metadata": {},
     "output_type": "display_data"
    }
   ],
   "source": [
    "tt = plot_histo(delta)\n",
    "print(\"Average and std of rho:\",np.mean(delta),np.std(delta))\n",
    "plt.title(r\"$\\delta$ histogram\")\n",
    "plt.axis([0,0.35,0,40])"
   ]
  },
  {
   "cell_type": "code",
   "execution_count": 10,
   "metadata": {},
   "outputs": [
    {
     "data": {
      "text/plain": [
       "[0, 400, 0, 0.35]"
      ]
     },
     "execution_count": 10,
     "metadata": {},
     "output_type": "execute_result"
    },
    {
     "data": {
      "image/png": "[encoded data removed]",
      "text/plain": [
       "<matplotlib.figure.Figure at 0x7fe0562e7668>"
      ]
     },
     "metadata": {},
     "output_type": "display_data"
    }
   ],
   "source": [
    "plt.scatter(rho,delta)\n",
    "plt.axis([0,400,0,0.35])"
   ]
  },
  {
   "cell_type": "code",
   "execution_count": 11,
   "metadata": {},
   "outputs": [
    {
     "name": "stdout",
     "output_type": "stream",
     "text": [
      "Found  6  clusters\n",
      "Cores:  [ 110  148  450 1309 1348 1578]\n"
     ]
    }
   ],
   "source": [
    "centroids,points = estimator.get_centroids(rmin=20,dmin=0.1)\n",
    "print(\"Found \",estimator.nclusters,\" clusters\")\n",
    "print(\"Cores: \",centroids)"
   ]
  },
  {
   "cell_type": "code",
   "execution_count": 12,
   "metadata": {},
   "outputs": [
    {
     "data": {
      "text/plain": [
       "Text(0.5,1,'Decision graph')"
      ]
     },
     "execution_count": 12,
     "metadata": {},
     "output_type": "execute_result"
    },
    {
     "data": {
      "image/png": "[encoded data removed]",
      "text/plain": [
       "<matplotlib.figure.Figure at 0x7fe057825278>"
      ]
     },
     "metadata": {},
     "output_type": "display_data"
    }
   ],
   "source": [
    "plt.plot(rho[points], delta[points], 'o', markerfacecolor=\"gray\",\\\n",
    "    markeredgecolor='k', markersize=5)\n",
    "\n",
    "plt.plot(rho[centroids], delta[centroids], 'H', markerfacecolor=\"gold\",\\\n",
    "    markeredgecolor='k', markersize=15)\n",
    "\n",
    "for c, x, y in zip(centroids, rho[centroids], delta[centroids]):\n",
    "    plt.annotate(\n",
    "        c,\n",
    "        xy = (x, y), xytext = (-20, 20),\n",
    "        textcoords = 'offset points', ha = 'right', va = 'bottom',\n",
    "        bbox = dict(boxstyle = 'round,pad=0.5', fc = 'yellow', alpha = 0.5),\n",
    "        arrowprops = dict(arrowstyle = '->', connectionstyle = 'arc3,rad=1'),\n",
    "        fontsize=16)\n",
    "\n",
    "#left = [1030]\n",
    "#for c, x, y in zip(left, rho[left], delta[left]):\n",
    "#    plt.annotate(\n",
    "#        c,\n",
    "#        xy = (x, y), xytext = (-50, 0),\n",
    "#        textcoords = 'offset points', ha = 'right', va = 'bottom',\n",
    "#        bbox = dict(boxstyle = 'round,pad=0.4', fc = 'yellow', alpha = 0.5),\n",
    "##        arrowprops = dict(arrowstyle = '->', connectionstyle = 'bar'),\n",
    "#        fontsize=16)     \n",
    "    \n",
    "plt.xlabel(r\"$\\rho$\")\n",
    "plt.ylabel(\"$\\delta$\")\n",
    "plt.title('Decision graph')"
   ]
  },
  {
   "cell_type": "code",
   "execution_count": 13,
   "metadata": {},
   "outputs": [
    {
     "name": "stdout",
     "output_type": "stream",
     "text": [
      "[ 110  110  110 ... 1309  450 1309]\n",
      "161 elements found in cluster 110\n",
      "217 elements found in cluster 148\n",
      "326 elements found in cluster 450\n",
      "884 elements found in cluster 1309\n",
      "297 elements found in cluster 1348\n",
      "115 elements found in cluster 1578\n"
     ]
    }
   ],
   "source": [
    "clusters = estimator.assign_points()\n",
    "print(clusters)\n",
    "for c in centroids:\n",
    "    N = len(clusters[clusters==c])\n",
    "    print(\"%d elements found in cluster %d\" % (N,c))"
   ]
  },
  {
   "cell_type": "code",
   "execution_count": 14,
   "metadata": {},
   "outputs": [
    {
     "name": "stdout",
     "output_type": "stream",
     "text": [
      "16 elements and 145 HALO points found in cluster 110\n",
      "18 elements and 199 HALO points found in cluster 148\n",
      "250 elements and 76 HALO points found in cluster 450\n",
      "785 elements and 99 HALO points found in cluster 1309\n",
      "208 elements and 89 HALO points found in cluster 1348\n",
      "115 elements and 0 HALO points found in cluster 1578\n"
     ]
    }
   ],
   "source": [
    "robust_clusters = estimator.create_halo(D)\n",
    "for c in centroids:\n",
    "    N = len(robust_clusters[robust_clusters==c])\n",
    "    H = len(clusters[clusters==c]) - N\n",
    "    print(\"%d elements and %d HALO points found in cluster %d\" % (N,H,c))"
   ]
  }
 ],
 "metadata": {
  "kernelspec": {
   "display_name": "Python 3 (ipykernel)",
   "language": "python",
   "name": "python3"
  },
  "language_info": {
   "codemirror_mode": {
    "name": "ipython",
    "version": 3
   },
   "file_extension": ".py",
   "mimetype": "text/x-python",
   "name": "python",
   "nbconvert_exporter": "python",
   "pygments_lexer": "ipython3",
   "version": "3.8.10"
  }
 },
 "nbformat": 4,
 "nbformat_minor": 1
}
