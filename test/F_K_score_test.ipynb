{
 "cells": [
  {
   "cell_type": "markdown",
   "metadata": {},
   "source": [
    "# f(K) score\n",
    "\n",
    "See *Selection of K in K-means clustering*, D. T. Pham, S. S. Dimov, and C. D. Nguyen DOI: 10.1243/095440605X8298\n",
    "See also https://datasciencelab.wordpress.com/2014/01/21/selection-of-k-in-k-means-clustering-reloaded/."
   ]
  },
  {
   "cell_type": "code",
   "execution_count": 1,
   "metadata": {},
   "outputs": [],
   "source": [
    "import numpy as np\n",
    "import scipy as sp\n",
    "import sys\n",
    "import sklearn, sklearn.cluster, sklearn.metrics, sklearn.datasets\n",
    "import matplotlib.pyplot as plt\n",
    "import random\n",
    "import seaborn as sns\n",
    "from matplotlib.ticker import MaxNLocator\n",
    "\n",
    "%matplotlib inline\n",
    "%load_ext autoreload"
   ]
  },
  {
   "cell_type": "code",
   "execution_count": 2,
   "metadata": {},
   "outputs": [],
   "source": [
    "sys.path.append(\"/home/gmancini/Dropbox/appunti/Clustering/src\")\n",
    "import mdutils\n",
    "import myclusters\n",
    "import myvalidation\n",
    "%autoreload 2"
   ]
  },
  {
   "cell_type": "code",
   "execution_count": 3,
   "metadata": {},
   "outputs": [],
   "source": [
    "def init_board_gauss(N, k):\n",
    "    n = float(N)/k\n",
    "    X = []\n",
    "    for i in range(k):\n",
    "        c = (random.uniform(-1,1), random.uniform(-1,1))\n",
    "        s = random.uniform(0.05,0.15)\n",
    "        x = []\n",
    "        while len(x) < n:\n",
    "            a,b = np.array([np.random.normal(c[0],s),np.random.normal(c[1],s)])\n",
    "            if abs(a) and abs(b)<1:\n",
    "                x.append([a,b])\n",
    "        X.extend(x)\n",
    "    X = np.array(X)[:N]\n",
    "    return X"
   ]
  },
  {
   "cell_type": "markdown",
   "metadata": {},
   "source": [
    "## Gaussian blobs - 1"
   ]
  },
  {
   "cell_type": "code",
   "execution_count": 4,
   "metadata": {},
   "outputs": [],
   "source": [
    "np.random.seed(0)\n",
    "random.seed(0)"
   ]
  },
  {
   "cell_type": "code",
   "execution_count": 5,
   "metadata": {},
   "outputs": [],
   "source": [
    "data = init_board_gauss(300,2)"
   ]
  },
  {
   "cell_type": "code",
   "execution_count": 6,
   "metadata": {},
   "outputs": [
    {
     "data": {
      "text/plain": [
       "<matplotlib.collections.PathCollection at 0x7f0f9f747ac0>"
      ]
     },
     "execution_count": 6,
     "metadata": {},
     "output_type": "execute_result"
    },
    {
     "data": {
      "image/png": "[encoded data removed]",
      "text/plain": [
       "<Figure size 432x288 with 1 Axes>"
      ]
     },
     "metadata": {
      "needs_background": "light"
     },
     "output_type": "display_data"
    }
   ],
   "source": [
    "x = data[:,0]\n",
    "y = data[:,1]\n",
    "plt.scatter(x,y)"
   ]
  },
  {
   "cell_type": "markdown",
   "metadata": {},
   "source": [
    "### Run KMeans"
   ]
  },
  {
   "cell_type": "markdown",
   "metadata": {},
   "source": [
    "**settings**"
   ]
  },
  {
   "cell_type": "code",
   "execution_count": 7,
   "metadata": {},
   "outputs": [],
   "source": [
    "KRange = range(2,14)\n",
    "niter = 300\n",
    "nrun = 5\n",
    "conv=1e-5\n",
    "metric = 'euclidean'"
   ]
  },
  {
   "cell_type": "code",
   "execution_count": 8,
   "metadata": {},
   "outputs": [
    {
     "data": {
      "text/plain": [
       "array([0.09557987, 0.26708558])"
      ]
     },
     "execution_count": 8,
     "metadata": {},
     "output_type": "execute_result"
    }
   ],
   "source": [
    "center = np.mean(data,axis=0)\n",
    "center"
   ]
  },
  {
   "cell_type": "code",
   "execution_count": 9,
   "metadata": {},
   "outputs": [
    {
     "data": {
      "text/plain": [
       "129.32981809421858"
      ]
     },
     "execution_count": 9,
     "metadata": {},
     "output_type": "execute_result"
    }
   ],
   "source": [
    "wss_1 = np.sum(sp.spatial.distance.cdist(data,np.expand_dims(center,axis=0))**2)\n",
    "wss_1"
   ]
  },
  {
   "cell_type": "code",
   "execution_count": 10,
   "metadata": {},
   "outputs": [
    {
     "name": "stderr",
     "output_type": "stream",
     "text": [
      "/usr/local/lib/python3.8/dist-packages/numpy/lib/function_base.py:393: RuntimeWarning: Mean of empty slice.\n",
      "  avg = a.mean(axis)\n",
      "/usr/local/lib/python3.8/dist-packages/numpy/core/_methods.py:153: RuntimeWarning: invalid value encountered in true_divide\n",
      "  ret = um.true_divide(\n"
     ]
    }
   ],
   "source": [
    "Clusters = list()\n",
    "for k in KRange:\n",
    "    my_estimator = myclusters.KMeans(K=k,niter=niter,nrun=nrun,boot='kmeans++',conv=1e-5,metric=metric)\n",
    "    my_estimator.do_clustering(X=data)\n",
    "    clusters = np.copy(my_estimator.clusters)\n",
    "    Clusters.append((k,my_estimator.inertia,clusters))"
   ]
  },
  {
   "cell_type": "code",
   "execution_count": 11,
   "metadata": {},
   "outputs": [],
   "source": [
    "SSE1 = list()\n",
    "sk = wss_1\n",
    "for C in Clusters:    \n",
    "    myeval = myvalidation.cluster_eval(clusters=C[2],X=data,metric=metric)\n",
    "    CH,wss = myeval(method=\"CH\")\n",
    "    sil = sklearn.metrics.silhouette_score(data,C[2],metric=metric)\n",
    "    CHs = sklearn.metrics.calinski_harabasz_score(data,C[2])\n",
    "    calc_sk = lambda k,sk: 1. if k==1 else sk\n",
    "    fk,sk = myeval(method=\"f_K\",Skm1=calc_sk(k,sk))\n",
    "    SSE1.append([C[0],C[1],sil,fk,CH,CHs])"
   ]
  },
  {
   "cell_type": "markdown",
   "metadata": {},
   "source": [
    "**compare with scikit**\n",
    "does not hurt"
   ]
  },
  {
   "cell_type": "code",
   "execution_count": 12,
   "metadata": {},
   "outputs": [],
   "source": [
    "Clusters = list()\n",
    "for k in KRange:\n",
    "    estimator = sklearn.cluster.KMeans(n_clusters=k,init='k-means++',n_init=nrun,max_iter=niter, tol=conv)\n",
    "    estimator.fit_predict(data)\n",
    "    clusters = np.copy(estimator.labels_)\n",
    "    Clusters.append((k,estimator.inertia_,clusters))"
   ]
  },
  {
   "cell_type": "code",
   "execution_count": 13,
   "metadata": {},
   "outputs": [],
   "source": [
    "SSE2 = list()\n",
    "sk = wss_1\n",
    "for C in Clusters:    \n",
    "    myeval = myvalidation.cluster_eval(clusters=C[2],X=data,metric=metric)\n",
    "    CH,wss = myeval(method=\"CH\")\n",
    "    sil = sklearn.metrics.silhouette_score(data,C[2],metric=metric)\n",
    "    CHs = sklearn.metrics.calinski_harabasz_score(data,C[2])\n",
    "    calc_sk = lambda k,sk: 1. if k==1 else sk\n",
    "    fk,sk = myeval(method=\"f_K\",Skm1=calc_sk(C[0],sk))\n",
    "    SSE2.append([C[0],C[1],sil,fk,CH,CHs])  "
   ]
  },
  {
   "cell_type": "code",
   "execution_count": 14,
   "metadata": {},
   "outputs": [],
   "source": [
    "SSE1 = np.asarray(SSE1)\n",
    "SSE2 = np.asarray(SSE2)"
   ]
  },
  {
   "cell_type": "code",
   "execution_count": 15,
   "metadata": {
    "scrolled": true
   },
   "outputs": [
    {
     "data": {
      "image/png": "[encoded data removed]",
      "text/plain": [
       "<Figure size 480x480 with 4 Axes>"
      ]
     },
     "metadata": {},
     "output_type": "display_data"
    }
   ],
   "source": [
    "fig = plt.figure(figsize=(6,6), dpi= 80, facecolor='w', edgecolor='k')\n",
    "titles  = ('WSS','Silhouette score','f(K)','CH score')\n",
    "col_row = (221,222,223,224)\n",
    "\n",
    "for i,I in enumerate(col_row):\n",
    "    ax = plt.subplot(I)\n",
    "    plt.title(titles[i], fontsize=10)\n",
    "    j=i+1\n",
    "    if j==4:\n",
    "        plt.plot(SSE1[:,0],SSE1[:,j],'go-',linewidth=1)\n",
    "        plt.plot(SSE2[:,0],SSE2[:,j],'r^--',linewidth=1)\n",
    "        plt.plot(SSE1[:,0],SSE1[:,j+1],'g+',linewidth=1)\n",
    "        plt.plot(SSE2[:,0],SSE2[:,j+1],'rs',linewidth=1)\n",
    "    else:\n",
    "        plt.plot(SSE1[:,0],SSE1[:,j],'go-',linewidth=1)\n",
    "        plt.plot(SSE2[:,0],SSE2[:,j],'r^--',linewidth=1)\n",
    "    ax.xaxis.set_major_locator(MaxNLocator(integer=True))    \n",
    "\n",
    "fig.tight_layout()"
   ]
  },
  {
   "cell_type": "markdown",
   "metadata": {},
   "source": [
    "## Gaussian blobs - 2"
   ]
  },
  {
   "cell_type": "code",
   "execution_count": 16,
   "metadata": {},
   "outputs": [],
   "source": [
    "np.random.seed(0)\n",
    "random.seed(0)"
   ]
  },
  {
   "cell_type": "code",
   "execution_count": 17,
   "metadata": {},
   "outputs": [],
   "source": [
    "data = init_board_gauss(500,5)"
   ]
  },
  {
   "cell_type": "code",
   "execution_count": 18,
   "metadata": {},
   "outputs": [
    {
     "data": {
      "text/plain": [
       "<matplotlib.collections.PathCollection at 0x7f0f9e66ccd0>"
      ]
     },
     "execution_count": 18,
     "metadata": {},
     "output_type": "execute_result"
    },
    {
     "data": {
      "image/png": "[encoded data removed]",
      "text/plain": [
       "<Figure size 432x288 with 1 Axes>"
      ]
     },
     "metadata": {
      "needs_background": "light"
     },
     "output_type": "display_data"
    }
   ],
   "source": [
    "x = data[:,0]\n",
    "y = data[:,1]\n",
    "plt.scatter(x,y)"
   ]
  },
  {
   "cell_type": "markdown",
   "metadata": {},
   "source": [
    "### Run KMeans"
   ]
  },
  {
   "cell_type": "markdown",
   "metadata": {},
   "source": [
    "**settings**"
   ]
  },
  {
   "cell_type": "code",
   "execution_count": 19,
   "metadata": {},
   "outputs": [
    {
     "data": {
      "text/plain": [
       "array([0.09475797, 0.29164282])"
      ]
     },
     "execution_count": 19,
     "metadata": {},
     "output_type": "execute_result"
    }
   ],
   "source": [
    "center = np.mean(data,axis=0)\n",
    "center"
   ]
  },
  {
   "cell_type": "code",
   "execution_count": 20,
   "metadata": {},
   "outputs": [
    {
     "data": {
      "text/plain": [
       "221.6542241465358"
      ]
     },
     "execution_count": 20,
     "metadata": {},
     "output_type": "execute_result"
    }
   ],
   "source": [
    "wss_1 = np.sum(sp.spatial.distance.cdist(data,np.expand_dims(center,axis=0))**2)\n",
    "wss_1"
   ]
  },
  {
   "cell_type": "code",
   "execution_count": 21,
   "metadata": {},
   "outputs": [
    {
     "name": "stderr",
     "output_type": "stream",
     "text": [
      "/usr/local/lib/python3.8/dist-packages/numpy/lib/function_base.py:393: RuntimeWarning: Mean of empty slice.\n",
      "  avg = a.mean(axis)\n",
      "/usr/local/lib/python3.8/dist-packages/numpy/core/_methods.py:153: RuntimeWarning: invalid value encountered in true_divide\n",
      "  ret = um.true_divide(\n"
     ]
    }
   ],
   "source": [
    "Clusters = list()\n",
    "for k in KRange:\n",
    "    my_estimator = myclusters.KMeans(K=k,niter=niter,nrun=nrun,boot='kmeans++',conv=1e-5,metric=metric)\n",
    "    my_estimator.do_clustering(X=data)\n",
    "    clusters = np.copy(my_estimator.clusters)\n",
    "    Clusters.append((k,my_estimator.inertia,clusters))"
   ]
  },
  {
   "cell_type": "code",
   "execution_count": 22,
   "metadata": {},
   "outputs": [],
   "source": [
    "SSE1 = list()\n",
    "sk = wss_1\n",
    "for C in Clusters:    \n",
    "    myeval = myvalidation.cluster_eval(clusters=C[2],X=data,metric=metric)\n",
    "    CH,wss = myeval(method=\"CH\")\n",
    "    sil = sklearn.metrics.silhouette_score(data,C[2],metric=metric)\n",
    "    CHs = sklearn.metrics.calinski_harabasz_score(data,C[2])\n",
    "    calc_sk = lambda k,sk: 1. if k==1 else sk\n",
    "    fk,sk = myeval(method=\"f_K\",Skm1=calc_sk(k,sk))\n",
    "    SSE1.append([C[0],C[1],sil,fk,CH,CHs])"
   ]
  },
  {
   "cell_type": "markdown",
   "metadata": {},
   "source": [
    "**compare with scikit**\n",
    "does not hurt"
   ]
  },
  {
   "cell_type": "code",
   "execution_count": 23,
   "metadata": {},
   "outputs": [],
   "source": [
    "Clusters = list()\n",
    "for k in KRange:\n",
    "    estimator = sklearn.cluster.KMeans(n_clusters=k,init='k-means++',n_init=nrun,max_iter=niter, tol=conv)\n",
    "    estimator.fit_predict(data)\n",
    "    clusters = np.copy(estimator.labels_)\n",
    "    Clusters.append((k,estimator.inertia_,clusters))"
   ]
  },
  {
   "cell_type": "code",
   "execution_count": 24,
   "metadata": {},
   "outputs": [],
   "source": [
    "SSE2 = list()\n",
    "sk = wss_1\n",
    "for C in Clusters:    \n",
    "    myeval = myvalidation.cluster_eval(clusters=C[2],X=data,metric=metric)\n",
    "    CH,wss = myeval(method=\"CH\")\n",
    "    sil = sklearn.metrics.silhouette_score(data,C[2],metric=metric)\n",
    "    CHs = sklearn.metrics.calinski_harabasz_score(data,C[2])\n",
    "    calc_sk = lambda k,sk: 1. if k==1 else sk\n",
    "    fk,sk = myeval(method=\"f_K\",Skm1=calc_sk(C[0],sk))\n",
    "    SSE2.append([C[0],C[1],sil,fk,CH,CHs])  "
   ]
  },
  {
   "cell_type": "code",
   "execution_count": 25,
   "metadata": {},
   "outputs": [],
   "source": [
    "SSE1 = np.asarray(SSE1)\n",
    "SSE2 = np.asarray(SSE2)"
   ]
  },
  {
   "cell_type": "code",
   "execution_count": 26,
   "metadata": {
    "scrolled": true
   },
   "outputs": [
    {
     "data": {
      "image/png": "[encoded data removed]",
      "text/plain": [
       "<Figure size 480x480 with 4 Axes>"
      ]
     },
     "metadata": {},
     "output_type": "display_data"
    }
   ],
   "source": [
    "fig = plt.figure(figsize=(6,6), dpi= 80, facecolor='w', edgecolor='k')\n",
    "titles  = ('WSS','Silhouette score','f(K)','CH score')\n",
    "col_row = (221,222,223,224)\n",
    "\n",
    "for i,I in enumerate(col_row):\n",
    "    ax = plt.subplot(I)\n",
    "    plt.title(titles[i], fontsize=10)\n",
    "    j=i+1\n",
    "    if j==4:\n",
    "        plt.plot(SSE1[:,0],SSE1[:,j],'go-',linewidth=1)\n",
    "        plt.plot(SSE2[:,0],SSE2[:,j],'r^--',linewidth=1)\n",
    "        plt.plot(SSE1[:,0],SSE1[:,j+1],'g+',linewidth=1)\n",
    "        plt.plot(SSE2[:,0],SSE2[:,j+1],'rs',linewidth=1)\n",
    "    else:\n",
    "        plt.plot(SSE1[:,0],SSE1[:,j],'go-',linewidth=1)\n",
    "        plt.plot(SSE2[:,0],SSE2[:,j],'r^--',linewidth=1)\n",
    "    ax.xaxis.set_major_locator(MaxNLocator(integer=True))    \n",
    "\n",
    "fig.tight_layout()"
   ]
  },
  {
   "cell_type": "code",
   "execution_count": 27,
   "metadata": {
    "scrolled": true
   },
   "outputs": [
    {
     "data": {
      "text/plain": [
       "array([0.8018565 , 0.52643258, 0.75454439, 0.52487013, 1.11634136,\n",
       "       1.08728731, 1.0347024 , 1.01490838, 1.00981809, 0.97535332,\n",
       "       1.00975164, 0.93701355])"
      ]
     },
     "execution_count": 27,
     "metadata": {},
     "output_type": "execute_result"
    }
   ],
   "source": [
    "SSE2[:,3]"
   ]
  },
  {
   "cell_type": "markdown",
   "metadata": {},
   "source": [
    "## Gaussian blobs - 3"
   ]
  },
  {
   "cell_type": "code",
   "execution_count": 28,
   "metadata": {},
   "outputs": [],
   "source": [
    "np.random.seed(0)\n",
    "random.seed(0)"
   ]
  },
  {
   "cell_type": "code",
   "execution_count": 29,
   "metadata": {},
   "outputs": [],
   "source": [
    "data = init_board_gauss(2500,10)"
   ]
  },
  {
   "cell_type": "code",
   "execution_count": 30,
   "metadata": {},
   "outputs": [
    {
     "data": {
      "text/plain": [
       "<matplotlib.collections.PathCollection at 0x7f0f9e493e50>"
      ]
     },
     "execution_count": 30,
     "metadata": {},
     "output_type": "execute_result"
    },
    {
     "data": {
      "image/png": "[encoded data removed]",
      "text/plain": [
       "<Figure size 432x288 with 1 Axes>"
      ]
     },
     "metadata": {
      "needs_background": "light"
     },
     "output_type": "display_data"
    }
   ],
   "source": [
    "x = data[:,0]\n",
    "y = data[:,1]\n",
    "plt.scatter(x,y)"
   ]
  },
  {
   "cell_type": "markdown",
   "metadata": {},
   "source": [
    "### Run KMeans"
   ]
  },
  {
   "cell_type": "markdown",
   "metadata": {},
   "source": [
    "**settings**"
   ]
  },
  {
   "cell_type": "code",
   "execution_count": 31,
   "metadata": {},
   "outputs": [
    {
     "data": {
      "text/plain": [
       "array([0.1214579 , 0.38325671])"
      ]
     },
     "execution_count": 31,
     "metadata": {},
     "output_type": "execute_result"
    }
   ],
   "source": [
    "center = np.mean(data,axis=0)\n",
    "center"
   ]
  },
  {
   "cell_type": "code",
   "execution_count": 32,
   "metadata": {},
   "outputs": [
    {
     "data": {
      "text/plain": [
       "1311.8397927110004"
      ]
     },
     "execution_count": 32,
     "metadata": {},
     "output_type": "execute_result"
    }
   ],
   "source": [
    "wss_1 = np.sum(sp.spatial.distance.cdist(data,np.expand_dims(center,axis=0))**2)\n",
    "wss_1"
   ]
  },
  {
   "cell_type": "code",
   "execution_count": 33,
   "metadata": {},
   "outputs": [],
   "source": [
    "Clusters = list()\n",
    "for k in KRange:\n",
    "    my_estimator = myclusters.KMeans(K=k,niter=niter,nrun=nrun,boot='kmeans++',conv=1e-5,metric=metric)\n",
    "    my_estimator.do_clustering(X=data)\n",
    "    clusters = np.copy(my_estimator.clusters)\n",
    "    Clusters.append((k,my_estimator.inertia,clusters))"
   ]
  },
  {
   "cell_type": "code",
   "execution_count": 34,
   "metadata": {},
   "outputs": [],
   "source": [
    "SSE1 = list()\n",
    "sk = wss_1\n",
    "for C in Clusters:    \n",
    "    myeval = myvalidation.cluster_eval(clusters=C[2],X=data,metric=metric)\n",
    "    CH,wss = myeval(method=\"CH\")\n",
    "    sil = sklearn.metrics.silhouette_score(data,C[2],metric=metric)\n",
    "    CHs = sklearn.metrics.calinski_harabasz_score(data,C[2])\n",
    "    calc_sk = lambda k,sk: 1. if k==1 else sk\n",
    "    fk,sk = myeval(method=\"f_K\",Skm1=calc_sk(k,sk))\n",
    "    SSE1.append([C[0],C[1],sil,fk,CH,CHs])"
   ]
  },
  {
   "cell_type": "code",
   "execution_count": null,
   "metadata": {},
   "outputs": [
    {
     "name": "stdout",
     "output_type": "stream",
     "text": [
      "2 [[0.85123735 0.55274614]\n",
      " [0.77894354 0.72219907]\n",
      " [0.86076578 0.42594338]\n",
      " ...\n",
      " [0.16944407 0.49570615]\n",
      " [0.11027146 0.9925048 ]\n",
      " [0.31456336 0.9219181 ]]\n"
     ]
    }
   ],
   "source": [
    "Clusters = list()\n",
    "for k in KRange:\n",
    "    print(k,data)\n",
    "    my_estimator = myclusters.PAM(K=k,metric=metric)\n",
    "    my_estimator.do_clustering(X=data)  #,doswap=False)\n",
    "    #clusters = np.copy(my_estimator.clusters)\n",
    "    #Clusters.append((k,my_estimator.inertia,clusters))"
   ]
  },
  {
   "cell_type": "code",
   "execution_count": null,
   "metadata": {},
   "outputs": [],
   "source": [
    "SSE3 = list()\n",
    "sk = wss_1\n",
    "for C in Clusters:    \n",
    "    myeval = myvalidation.cluster_eval(clusters=C[2],X=data,metric=metric)\n",
    "    CH,wss = myeval(method=\"CH\")\n",
    "    sil = sklearn.metrics.silhouette_score(data,C[2],metric=metric)\n",
    "    CHs = sklearn.metrics.calinski_harabasz_score(data,C[2])\n",
    "    calc_sk = lambda k,sk: 1. if k==1 else sk\n",
    "    fk,sk = myeval(method=\"f_K\",Skm1=calc_sk(k,sk))\n",
    "    SSE3.append([C[0],C[1],sil,fk,CH,CHs])"
   ]
  },
  {
   "cell_type": "markdown",
   "metadata": {},
   "source": [
    "**compare with scikit**\n",
    "does not hurt"
   ]
  },
  {
   "cell_type": "code",
   "execution_count": null,
   "metadata": {},
   "outputs": [],
   "source": [
    "Clusters = list()\n",
    "for k in KRange:\n",
    "    estimator = sklearn.cluster.KMeans(n_clusters=k,init='k-means++',n_init=nrun,max_iter=niter, tol=conv)\n",
    "    estimator.fit_predict(data)\n",
    "    clusters = np.copy(estimator.labels_)\n",
    "    Clusters.append((k,estimator.inertia_,clusters))"
   ]
  },
  {
   "cell_type": "code",
   "execution_count": null,
   "metadata": {},
   "outputs": [],
   "source": [
    "SSE2 = list()\n",
    "sk = wss_1\n",
    "for C in Clusters:    \n",
    "    myeval = myvalidation.cluster_eval(clusters=C[2],X=data,metric=metric)\n",
    "    CH,wss = myeval(method=\"CH\")\n",
    "    sil = sklearn.metrics.silhouette_score(data,C[2],metric=metric)\n",
    "    CHs = sklearn.metrics.calinski_harabasz_score(data,C[2])\n",
    "    calc_sk = lambda k,sk: 1. if k==1 else sk\n",
    "    fk,sk = myeval(method=\"f_K\",Skm1=calc_sk(C[0],sk))\n",
    "    SSE2.append([C[0],C[1],sil,fk,CH,CHs])  "
   ]
  },
  {
   "cell_type": "code",
   "execution_count": null,
   "metadata": {},
   "outputs": [],
   "source": [
    "SSE1 = np.asarray(SSE1)\n",
    "SSE2 = np.asarray(SSE2)\n",
    "SSE3 = np.asarray(SSE3)"
   ]
  },
  {
   "cell_type": "code",
   "execution_count": null,
   "metadata": {
    "scrolled": true
   },
   "outputs": [],
   "source": [
    "fig = plt.figure(figsize=(6,6), dpi= 80, facecolor='w', edgecolor='k')\n",
    "titles  = ('WSS','Silhouette score','f(K)','CH score')\n",
    "col_row = (221,222,223,224)\n",
    "\n",
    "for i,I in enumerate(col_row):\n",
    "    ax = plt.subplot(I)\n",
    "    plt.title(titles[i], fontsize=10)\n",
    "    j=i+1\n",
    "    if j==4:\n",
    "        plt.plot(SSE1[:,0],SSE1[:,j],'go-',linewidth=1)\n",
    "        plt.plot(SSE2[:,0],SSE2[:,j],'r^--',linewidth=1)\n",
    "        plt.plot(SSE3[:,0],SSE3[:,j+1],'bs:',linewidth=1)\n",
    "        plt.plot(SSE1[:,0],SSE1[:,j+1],'g+',linewidth=1)\n",
    "        plt.plot(SSE2[:,0],SSE2[:,j+1],'r^',linewidth=1)\n",
    "        plt.plot(SSE3[:,0],SSE3[:,j+1],'bs',linewidth=1)\n",
    "    else:\n",
    "        plt.plot(SSE1[:,0],SSE1[:,j],'go-',linewidth=1)\n",
    "        plt.plot(SSE2[:,0],SSE2[:,j],'r^--',linewidth=1)\n",
    "        plt.plot(SSE3[:,0],SSE3[:,j],'bs:',linewidth=1)\n",
    "    ax.xaxis.set_major_locator(MaxNLocator(integer=True))    \n",
    "\n",
    "fig.tight_layout()"
   ]
  },
  {
   "cell_type": "code",
   "execution_count": null,
   "metadata": {
    "scrolled": true
   },
   "outputs": [],
   "source": [
    "SSE2[:,3]"
   ]
  }
 ],
 "metadata": {
  "kernelspec": {
   "display_name": "Python 3",
   "language": "python",
   "name": "python3"
  },
  "language_info": {
   "codemirror_mode": {
    "name": "ipython",
    "version": 3
   },
   "file_extension": ".py",
   "mimetype": "text/x-python",
   "name": "python",
   "nbconvert_exporter": "python",
   "pygments_lexer": "ipython3",
   "version": "3.8.10"
  }
 },
 "nbformat": 4,
 "nbformat_minor": 2
}
